{
 "cells": [
  {
   "cell_type": "markdown",
   "metadata": {
    "deletable": false,
    "editable": false,
    "nbgrader": {
     "checksum": "3d6ca25e8593c05b42af0c6f3c3861db",
     "grade": false,
     "grade_id": "cell-6e768e5e5abee2e8",
     "locked": true,
     "schema_version": 1,
     "solution": false
    }
   },
   "source": [
    "## Information Visualization II\n",
    "\n",
    "## School of Information, University of Michigan\n",
    "\n",
    "## Week 2:\n",
    "\n",
    "- Functions of interactivity\n",
    "\n",
    "## Assignment Overview\n",
    "### The objectives for this week are for you to:\n",
    "\n",
    "- Understand the role of interaction in visualization\n",
    "- Identify and understand various types of interaction in visualization\n",
    "- Learn to implement interactive visualizations using Altair\n",
    "\n",
    "\n",
    "### The total score of this assignment will be\n",
    "- Case study reflection:  (30 points)\n",
    "- Altair programming exercise (70 points)\n",
    "- Extra credit (up to 10 points)\n",
    "\n",
    "\n",
    "\n",
    "### Resources:\n",
    "\n",
    "- This article by [FiveThirtyEight](https://fivethirtyeight.com). Available [online](https://fivethirtyeight.com/features/women-in-comic-books/) (Hichey, 2014) \n",
    "\n",
    "- Datasets from FiveThirtyEight, we have downloaded a subset of these datasets available in the folder for your use into [./assets](./assets)\n",
    "     - The original dataset can be found on [FiveThirtyEight Comic Characters](https://github.com/fivethirtyeight/data/tree/master/comic-characters)\n",
    "\n",
    "### Important notes:\n",
    "1) Grading for this assignment is entirely done by manual inspection.\n",
    "\n",
    "2) When turning in your PDF, please use the File -> Print -> Save as PDF option ***from your browser***. Do ***not*** use the File->Download as->PDF option. Complete instructions for this are under Resources in the Coursera page for this class.\n",
    "\n",
    "\n",
    "***"
   ]
  },
  {
   "cell_type": "markdown",
   "metadata": {
    "deletable": false,
    "editable": false,
    "nbgrader": {
     "checksum": "fc99dcd14ed7aec80ecf6cf34c162892",
     "grade": false,
     "grade_id": "cell-f3a1c0ace8804d04",
     "locked": true,
     "schema_version": 1,
     "solution": false
    }
   },
   "source": [
    "## Part 1. Interactive visualization assesment (30 points)\n",
    "\n",
    "Read the following article [Timeless Songs](https://pudding.cool/2017/03/timeless/) on the Pudding's site, and answer the following questions:"
   ]
  },
  {
   "cell_type": "markdown",
   "metadata": {
    "deletable": false,
    "editable": false,
    "nbgrader": {
     "checksum": "5ff658174a86eccadb814c0d344e8415",
     "grade": false,
     "grade_id": "cell-1c4a07eee497cd53",
     "locked": true,
     "schema_version": 1,
     "solution": false
    }
   },
   "source": [
    "### 1.1 Identify various interactions (15 points)\n",
    "For the five visualizations:\n",
    "* What's Remembered from the 90s\n",
    "* Biggie or Tupac\n",
    "* Present-day Popularity of Five Decades of Music\n",
    "* XXXX Tracks: Historic Billboard Performance vs. 2014 Spotify Plays\n",
    "* The Long-term Future of Hits from 2013\n",
    "\n",
    "Identify which of the 7 interaction types are implemented and how.  You don't need a long description. A short sentence will do."
   ]
  },
  {
   "cell_type": "markdown",
   "metadata": {},
   "source": [
    "***YOUR ANSWER HERE***\n",
    "\n",
    "* What's Remembered from the 90s\n",
    "  * Select is implemented by 'What's Remembered from the 90s' using the mouse-hover technique to support detailed views of individual data points. Filter is also used through a search bar, in order to highlight statistics pertaining to a single artist of interest(all other artists are greyed out so as not to detract from the viewer's attention).\n",
    "\n",
    "* Biggie or Tupac\n",
    "  * Select is implemented by 'Biggie or Tupac' using the mouse-hover technique to support detailed views of individual data points. Filter is implemented using a search bar and buttons, to show data conditionally(i.e. only show points for rapper x and exclude all other points). Encode is also used(red color is utilized to highlight rappers that have been specifically filtered for, otherwise, all points are red).\n",
    "  \n",
    "  \n",
    "* Present-day Popularity of Five Decades of Music\n",
    "   * Filter is implemented in 'Present-day Popularity of Five Decades of Music' through the search bar, in order to only display bars for the artist of interest, while the buttons can be used as a broader filter by decade. Encode is used through the coloration of the bars(different color for each decade), to support easier cross-decade analysis.  \n",
    "\n",
    "* XXXX Tracks: Historic Billboard Performance vs. 2014 Spotify Plays\n",
    "    * Filter is implemented in 'XXXX Tracks: Historic Billboard Performance vs. 2014 Spotify Plays' through the search bar, to highlight statistics pertaining to a single artist of interest(all other artists are greyed out), while the buttons and year widget can be used to filter more broadly by decade or by year. Select is implemented using the mouse-hover technique, again, to support detailed views of individual data points, while encode is used by the won grammy/peaked at billboard #1 buttons to highlight specific points the author thought was of greater importance(encoded using the color red).\n",
    "\n",
    "* The Long-term Future of Hits from 2013\n",
    "     * Filter is implemented in 'The Long-term Future of Hits from 2013' through the search bar, to allow users to search for specific tracks without scanning the list of ones available for visualization(only supports single selection). Selection is implemented through the list of tracks by check boxes, allowing users to select as many tracks as they would like to visualize. encode is utilized through the colors of the line graphs and the labels(if the viewer selects multiple tracks, each line will be encoded using a different color)."
   ]
  },
  {
   "cell_type": "markdown",
   "metadata": {
    "deletable": false,
    "editable": false,
    "nbgrader": {
     "checksum": "1222d71eeecc9e6de8b9e5a3d1fed109",
     "grade": false,
     "grade_id": "cell-83c73ab445e1e812",
     "locked": true,
     "schema_version": 1,
     "solution": false
    }
   },
   "source": [
    "### 1.2  Critique (15 points)\n",
    "For one of the five visualizations, critique the use of interaction. What works well? What could be better? You can add your own images here if it helps."
   ]
  },
  {
   "cell_type": "markdown",
   "metadata": {},
   "source": [
    "I believe XXXX 'TRACKS: HISTORIC BILLBOARD PERFORMANCE VS. 2014 SPOTIFY PLAYS' is arguably the chart with the highest learning curve, in the sense that it's difficult to keep track of all the various encodings simultaneously. Intuitively, one might expect that the size of each circle point would indicate the size of the playcount for each respective track, but that is actually not the case. Rather, the size is indicative of billboard performance at the time of release, whereas the tickmarks are what are actually indicative of song playcount. Furthermore, the color encodings for both 'Won Grammy' and 'Peaked At Billboard #1 are the same(both bright red), and it is not possible to toggle both simultaneously. I believe emulating 'Present-day Popularity of Five Decades of Music' would have benefitted this graph. The filter search bar and year widget, the buttons, and other existing toggling could exist, and similarly, the bars corresponding to each decade could be encoded with a different color. The bars indicating a grammy win and #1 billboard toppers could have each been overlaid with some unique indicator(a checkmark symobl, a trophy symbol, etc). The bar chart format would have made magnitude comparisons much more intuitive, which was the intended goal of the original visualization anyhow, so effectiveness would not be sacrificed by converting formats, and would arguably be augmented."
   ]
  },
  {
   "cell_type": "markdown",
   "metadata": {},
   "source": [
    "****"
   ]
  },
  {
   "cell_type": "markdown",
   "metadata": {
    "deletable": false,
    "editable": false,
    "nbgrader": {
     "checksum": "bcd74cdb86c11d1a8b0e5954eaf5bd75",
     "grade": false,
     "grade_id": "cell-c97878b614df173d",
     "locked": true,
     "schema_version": 1,
     "solution": false
    }
   },
   "source": [
    "## Part 2. Programming exercise (70 points)\n",
    "\n",
    "Start by reading the 538 article [here](https://fivethirtyeight.com/features/women-in-comic-books/). What you should know is that there are two major comic book companies: DC (Batman, Superman, Wonder Woman, etc.) and Marvel (Black Widow, Iron Man, Hulk, etc.). \n",
    "\n",
    "We have a dataset of characters, their sex, when they were introduced, if their identify is secret, their eye and hair color, the number of appearances, etc. Lots of dimensions on which to build our visualizations."
   ]
  },
  {
   "cell_type": "code",
   "execution_count": 1,
   "metadata": {
    "code_folding": []
   },
   "outputs": [],
   "source": [
    "# start with the setup\n",
    "import pandas as pd\n",
    "import numpy as np\n",
    "import altair as alt"
   ]
  },
  {
   "cell_type": "code",
   "execution_count": 2,
   "metadata": {},
   "outputs": [
    {
     "data": {
      "text/plain": [
       "RendererRegistry.enable('default')"
      ]
     },
     "execution_count": 2,
     "metadata": {},
     "output_type": "execute_result"
    }
   ],
   "source": [
    "# enable correct rendering\n",
    "alt.renderers.enable('default')"
   ]
  },
  {
   "cell_type": "code",
   "execution_count": 3,
   "metadata": {},
   "outputs": [
    {
     "data": {
      "text/plain": [
       "ThemeRegistry.enable('fivethirtyeight')"
      ]
     },
     "execution_count": 3,
     "metadata": {},
     "output_type": "execute_result"
    }
   ],
   "source": [
    "# uses intermediate json files to speed things up\n",
    "alt.data_transformers.enable('json')\n",
    "\n",
    "# use the 538 theme\n",
    "alt.themes.enable('fivethirtyeight')"
   ]
  },
  {
   "cell_type": "code",
   "execution_count": 4,
   "metadata": {},
   "outputs": [],
   "source": [
    "# load up the two datasets, one for Marvel and one for DC\n",
    "dc = pd.read_csv('assets/dc-wikia-data.csv')\n",
    "marvel = pd.read_csv('assets/marvel-wikia-data.csv')"
   ]
  },
  {
   "cell_type": "code",
   "execution_count": 5,
   "metadata": {},
   "outputs": [],
   "source": [
    "dc['publisher'] = 'DC'\n",
    "marvel['publisher'] = 'Marvel'"
   ]
  },
  {
   "cell_type": "code",
   "execution_count": 6,
   "metadata": {},
   "outputs": [],
   "source": [
    "# rename some columns\n",
    "marvel.rename(columns={'Year': 'YEAR'}, inplace=True)"
   ]
  },
  {
   "cell_type": "code",
   "execution_count": 7,
   "metadata": {},
   "outputs": [],
   "source": [
    "# create the table with everything\n",
    "comic = pd.concat([dc, marvel])\n",
    "\n",
    "# drop years with na values\n",
    "comic.dropna(subset=['YEAR'], inplace=True)"
   ]
  },
  {
   "cell_type": "code",
   "execution_count": 8,
   "metadata": {},
   "outputs": [
    {
     "data": {
      "text/html": [
       "<div>\n",
       "<style scoped>\n",
       "    .dataframe tbody tr th:only-of-type {\n",
       "        vertical-align: middle;\n",
       "    }\n",
       "\n",
       "    .dataframe tbody tr th {\n",
       "        vertical-align: top;\n",
       "    }\n",
       "\n",
       "    .dataframe thead th {\n",
       "        text-align: right;\n",
       "    }\n",
       "</style>\n",
       "<table border=\"1\" class=\"dataframe\">\n",
       "  <thead>\n",
       "    <tr style=\"text-align: right;\">\n",
       "      <th></th>\n",
       "      <th>page_id</th>\n",
       "      <th>name</th>\n",
       "      <th>urlslug</th>\n",
       "      <th>ID</th>\n",
       "      <th>ALIGN</th>\n",
       "      <th>EYE</th>\n",
       "      <th>HAIR</th>\n",
       "      <th>SEX</th>\n",
       "      <th>GSM</th>\n",
       "      <th>ALIVE</th>\n",
       "      <th>APPEARANCES</th>\n",
       "      <th>FIRST APPEARANCE</th>\n",
       "      <th>YEAR</th>\n",
       "      <th>publisher</th>\n",
       "    </tr>\n",
       "  </thead>\n",
       "  <tbody>\n",
       "    <tr>\n",
       "      <th>2881</th>\n",
       "      <td>34004</td>\n",
       "      <td>Amir (Earth-616)</td>\n",
       "      <td>\\/Amir_(Earth-616)</td>\n",
       "      <td>NaN</td>\n",
       "      <td>Good Characters</td>\n",
       "      <td>Blue Eyes</td>\n",
       "      <td>NaN</td>\n",
       "      <td>Female Characters</td>\n",
       "      <td>NaN</td>\n",
       "      <td>Deceased Characters</td>\n",
       "      <td>12.0</td>\n",
       "      <td>Sep-06</td>\n",
       "      <td>2006.0</td>\n",
       "      <td>Marvel</td>\n",
       "    </tr>\n",
       "    <tr>\n",
       "      <th>13300</th>\n",
       "      <td>557943</td>\n",
       "      <td>Lowdown (Earth-616)</td>\n",
       "      <td>\\/Lowdown_(Earth-616)</td>\n",
       "      <td>Secret Identity</td>\n",
       "      <td>NaN</td>\n",
       "      <td>White Eyes</td>\n",
       "      <td>Bald</td>\n",
       "      <td>Male Characters</td>\n",
       "      <td>NaN</td>\n",
       "      <td>Living Characters</td>\n",
       "      <td>1.0</td>\n",
       "      <td>Jul-93</td>\n",
       "      <td>1993.0</td>\n",
       "      <td>Marvel</td>\n",
       "    </tr>\n",
       "    <tr>\n",
       "      <th>3695</th>\n",
       "      <td>51873</td>\n",
       "      <td>Super-Humanoid (Earth-616)</td>\n",
       "      <td>\\/Super-Humanoid_(Earth-616)</td>\n",
       "      <td>NaN</td>\n",
       "      <td>Bad Characters</td>\n",
       "      <td>White Eyes</td>\n",
       "      <td>No Hair</td>\n",
       "      <td>Male Characters</td>\n",
       "      <td>NaN</td>\n",
       "      <td>Living Characters</td>\n",
       "      <td>8.0</td>\n",
       "      <td>Jun-69</td>\n",
       "      <td>1969.0</td>\n",
       "      <td>Marvel</td>\n",
       "    </tr>\n",
       "    <tr>\n",
       "      <th>4567</th>\n",
       "      <td>145152</td>\n",
       "      <td>Rak Arranya (New Earth)</td>\n",
       "      <td>\\/wiki\\/Rak_Arranya_(New_Earth)</td>\n",
       "      <td>NaN</td>\n",
       "      <td>Good Characters</td>\n",
       "      <td>NaN</td>\n",
       "      <td>Brown Hair</td>\n",
       "      <td>Male Characters</td>\n",
       "      <td>NaN</td>\n",
       "      <td>Deceased Characters</td>\n",
       "      <td>3.0</td>\n",
       "      <td>1996</td>\n",
       "      <td>1996.0</td>\n",
       "      <td>DC</td>\n",
       "    </tr>\n",
       "    <tr>\n",
       "      <th>1623</th>\n",
       "      <td>570029</td>\n",
       "      <td>Rebecca Ryker (Earth-616)</td>\n",
       "      <td>\\/Rebecca_Ryker_(Earth-616)</td>\n",
       "      <td>Public Identity</td>\n",
       "      <td>Neutral Characters</td>\n",
       "      <td>Brown Eyes</td>\n",
       "      <td>Black Hair</td>\n",
       "      <td>Female Characters</td>\n",
       "      <td>NaN</td>\n",
       "      <td>Living Characters</td>\n",
       "      <td>23.0</td>\n",
       "      <td>Feb-13</td>\n",
       "      <td>2013.0</td>\n",
       "      <td>Marvel</td>\n",
       "    </tr>\n",
       "  </tbody>\n",
       "</table>\n",
       "</div>"
      ],
      "text/plain": [
       "       page_id                        name                          urlslug  \\\n",
       "2881     34004            Amir (Earth-616)               \\/Amir_(Earth-616)   \n",
       "13300   557943         Lowdown (Earth-616)            \\/Lowdown_(Earth-616)   \n",
       "3695     51873  Super-Humanoid (Earth-616)     \\/Super-Humanoid_(Earth-616)   \n",
       "4567    145152     Rak Arranya (New Earth)  \\/wiki\\/Rak_Arranya_(New_Earth)   \n",
       "1623    570029   Rebecca Ryker (Earth-616)      \\/Rebecca_Ryker_(Earth-616)   \n",
       "\n",
       "                    ID               ALIGN         EYE        HAIR  \\\n",
       "2881               NaN     Good Characters   Blue Eyes         NaN   \n",
       "13300  Secret Identity                 NaN  White Eyes        Bald   \n",
       "3695               NaN      Bad Characters  White Eyes     No Hair   \n",
       "4567               NaN     Good Characters         NaN  Brown Hair   \n",
       "1623   Public Identity  Neutral Characters  Brown Eyes  Black Hair   \n",
       "\n",
       "                     SEX  GSM                ALIVE  APPEARANCES  \\\n",
       "2881   Female Characters  NaN  Deceased Characters         12.0   \n",
       "13300    Male Characters  NaN    Living Characters          1.0   \n",
       "3695     Male Characters  NaN    Living Characters          8.0   \n",
       "4567     Male Characters  NaN  Deceased Characters          3.0   \n",
       "1623   Female Characters  NaN    Living Characters         23.0   \n",
       "\n",
       "      FIRST APPEARANCE    YEAR publisher  \n",
       "2881            Sep-06  2006.0    Marvel  \n",
       "13300           Jul-93  1993.0    Marvel  \n",
       "3695            Jun-69  1969.0    Marvel  \n",
       "4567              1996  1996.0        DC  \n",
       "1623            Feb-13  2013.0    Marvel  "
      ]
     },
     "execution_count": 8,
     "metadata": {},
     "output_type": "execute_result"
    }
   ],
   "source": [
    "# let's look inside\n",
    "comic.sample(5)"
   ]
  },
  {
   "cell_type": "markdown",
   "metadata": {
    "deletable": false,
    "editable": false,
    "nbgrader": {
     "checksum": "7f0a62eefdc09fc086938a08465306fc",
     "grade": false,
     "grade_id": "cell-e32f6926ac8ae847",
     "locked": true,
     "schema_version": 1,
     "solution": false
    }
   },
   "source": [
    "# Comic Books Are Still Made By Men, For Men And About Men"
   ]
  },
  {
   "cell_type": "markdown",
   "metadata": {
    "deletable": false,
    "editable": false,
    "nbgrader": {
     "checksum": "e012cd9de614f9f8d0113998c62534df",
     "grade": false,
     "grade_id": "cell-e0e6292a77fde238",
     "locked": true,
     "schema_version": 1,
     "solution": false
    }
   },
   "source": [
    "_Original article available at [FiveThirtyEight](https://fivethirtyeight.com/features/women-in-comic-books/)_\n",
    "\n",
    "By [Walt Hickey](https://fivethirtyeight.com/contributors/walt-hickey/)\n",
    "\n",
    "Get the data on [GitHub](https://github.com/fivethirtyeight/data/tree/master/comic-characters)"
   ]
  },
  {
   "cell_type": "markdown",
   "metadata": {
    "deletable": false,
    "editable": false,
    "nbgrader": {
     "checksum": "536052877121b0f8e2163cc40353f2ab",
     "grade": false,
     "grade_id": "cell-ade4a868ef5175a9",
     "locked": true,
     "schema_version": 1,
     "solution": false
    }
   },
   "source": [
    "We are going to be revising and adding to the visualizations for this article. While they're nice, we think we can do better by adding some interactivity.\n",
    "\n",
    "Because many of these visualizations are interactive, we will be recording short clips to demonstrate the desired behavior of the systems. Unlike some of your previous assignments, we will give you portions of the Altair code and ask you to complete the interactive elements."
   ]
  },
  {
   "cell_type": "markdown",
   "metadata": {
    "deletable": false,
    "editable": false,
    "nbgrader": {
     "checksum": "b66f5db6221e0e67df07fa4c5aaf34d1",
     "grade": false,
     "grade_id": "cell-61c22cab74bb5cba",
     "locked": true,
     "schema_version": 1,
     "solution": false
    }
   },
   "source": [
    "## Problem 2.1 (35 Points)\n",
    "\n",
    "We'd like to build an interactive visualization that allows us to compare the distributions of characters over time as well. The top two charts will represent the total characters over time (as bar charts). The bottom two will be a line chart with separate lines for female and male characters.  \n",
    "\n",
    "![\"example for 4 chart](assets/4chart_example.gif)\n",
    "\n",
    "As ranges are selected or moved in the top charts, the bottom charts will automatically update (and the selection will be visible). "
   ]
  },
  {
   "cell_type": "code",
   "execution_count": 9,
   "metadata": {
    "code_folding": []
   },
   "outputs": [],
   "source": [
    "# let's pre-process the data. We're going to focus on just Female and just Male characters for the moment and will\n",
    "# only consider those \n",
    "comic_ch1_df = comic[(comic['YEAR'] >= 1940) & (comic['SEX'].isin(['Female Characters', 'Male Characters']))]"
   ]
  },
  {
   "cell_type": "code",
   "execution_count": 10,
   "metadata": {},
   "outputs": [
    {
     "data": {
      "text/html": [
       "<div>\n",
       "<style scoped>\n",
       "    .dataframe tbody tr th:only-of-type {\n",
       "        vertical-align: middle;\n",
       "    }\n",
       "\n",
       "    .dataframe tbody tr th {\n",
       "        vertical-align: top;\n",
       "    }\n",
       "\n",
       "    .dataframe thead th {\n",
       "        text-align: right;\n",
       "    }\n",
       "</style>\n",
       "<table border=\"1\" class=\"dataframe\">\n",
       "  <thead>\n",
       "    <tr style=\"text-align: right;\">\n",
       "      <th></th>\n",
       "      <th>page_id</th>\n",
       "      <th>name</th>\n",
       "      <th>urlslug</th>\n",
       "      <th>ID</th>\n",
       "      <th>ALIGN</th>\n",
       "      <th>EYE</th>\n",
       "      <th>HAIR</th>\n",
       "      <th>SEX</th>\n",
       "      <th>GSM</th>\n",
       "      <th>ALIVE</th>\n",
       "      <th>APPEARANCES</th>\n",
       "      <th>FIRST APPEARANCE</th>\n",
       "      <th>YEAR</th>\n",
       "      <th>publisher</th>\n",
       "    </tr>\n",
       "  </thead>\n",
       "  <tbody>\n",
       "    <tr>\n",
       "      <th>12887</th>\n",
       "      <td>16915</td>\n",
       "      <td>Rust (Earth-616)</td>\n",
       "      <td>\\/Rust_(Earth-616)</td>\n",
       "      <td>Secret Identity</td>\n",
       "      <td>Bad Characters</td>\n",
       "      <td>NaN</td>\n",
       "      <td>NaN</td>\n",
       "      <td>Male Characters</td>\n",
       "      <td>NaN</td>\n",
       "      <td>Living Characters</td>\n",
       "      <td>1.0</td>\n",
       "      <td>Feb-89</td>\n",
       "      <td>1989.0</td>\n",
       "      <td>Marvel</td>\n",
       "    </tr>\n",
       "    <tr>\n",
       "      <th>5967</th>\n",
       "      <td>291985</td>\n",
       "      <td>Gorbzil Mammit (New Earth)</td>\n",
       "      <td>\\/wiki\\/Gorbzil_Mammit_(New_Earth)</td>\n",
       "      <td>Public Identity</td>\n",
       "      <td>Good Characters</td>\n",
       "      <td>Hazel Eyes</td>\n",
       "      <td>Black Hair</td>\n",
       "      <td>Male Characters</td>\n",
       "      <td>NaN</td>\n",
       "      <td>Living Characters</td>\n",
       "      <td>1.0</td>\n",
       "      <td>1999, August</td>\n",
       "      <td>1999.0</td>\n",
       "      <td>DC</td>\n",
       "    </tr>\n",
       "    <tr>\n",
       "      <th>14715</th>\n",
       "      <td>113479</td>\n",
       "      <td>Rebecca Barnes (Earth-616)</td>\n",
       "      <td>\\/Rebecca_Barnes_(Earth-616)</td>\n",
       "      <td>Public Identity</td>\n",
       "      <td>Neutral Characters</td>\n",
       "      <td>NaN</td>\n",
       "      <td>NaN</td>\n",
       "      <td>Female Characters</td>\n",
       "      <td>NaN</td>\n",
       "      <td>Deceased Characters</td>\n",
       "      <td>1.0</td>\n",
       "      <td>Nov-09</td>\n",
       "      <td>2009.0</td>\n",
       "      <td>Marvel</td>\n",
       "    </tr>\n",
       "    <tr>\n",
       "      <th>13001</th>\n",
       "      <td>64742</td>\n",
       "      <td>Stevie (Earth-616)</td>\n",
       "      <td>\\/Stevie_(Earth-616)</td>\n",
       "      <td>Secret Identity</td>\n",
       "      <td>Bad Characters</td>\n",
       "      <td>NaN</td>\n",
       "      <td>Black Hair</td>\n",
       "      <td>Male Characters</td>\n",
       "      <td>NaN</td>\n",
       "      <td>Living Characters</td>\n",
       "      <td>1.0</td>\n",
       "      <td>Nov-90</td>\n",
       "      <td>1990.0</td>\n",
       "      <td>Marvel</td>\n",
       "    </tr>\n",
       "    <tr>\n",
       "      <th>2586</th>\n",
       "      <td>9722</td>\n",
       "      <td>Brian Muldoon (Earth-616)</td>\n",
       "      <td>\\/Brian_Muldoon_(Earth-616)</td>\n",
       "      <td>Secret Identity</td>\n",
       "      <td>Bad Characters</td>\n",
       "      <td>Blue Eyes</td>\n",
       "      <td>Brown Hair</td>\n",
       "      <td>Male Characters</td>\n",
       "      <td>NaN</td>\n",
       "      <td>Living Characters</td>\n",
       "      <td>13.0</td>\n",
       "      <td>Jul-71</td>\n",
       "      <td>1971.0</td>\n",
       "      <td>Marvel</td>\n",
       "    </tr>\n",
       "  </tbody>\n",
       "</table>\n",
       "</div>"
      ],
      "text/plain": [
       "       page_id                        name  \\\n",
       "12887    16915            Rust (Earth-616)   \n",
       "5967    291985  Gorbzil Mammit (New Earth)   \n",
       "14715   113479  Rebecca Barnes (Earth-616)   \n",
       "13001    64742          Stevie (Earth-616)   \n",
       "2586      9722   Brian Muldoon (Earth-616)   \n",
       "\n",
       "                                  urlslug               ID  \\\n",
       "12887                  \\/Rust_(Earth-616)  Secret Identity   \n",
       "5967   \\/wiki\\/Gorbzil_Mammit_(New_Earth)  Public Identity   \n",
       "14715        \\/Rebecca_Barnes_(Earth-616)  Public Identity   \n",
       "13001                \\/Stevie_(Earth-616)  Secret Identity   \n",
       "2586          \\/Brian_Muldoon_(Earth-616)  Secret Identity   \n",
       "\n",
       "                    ALIGN         EYE        HAIR                SEX  GSM  \\\n",
       "12887      Bad Characters         NaN         NaN    Male Characters  NaN   \n",
       "5967      Good Characters  Hazel Eyes  Black Hair    Male Characters  NaN   \n",
       "14715  Neutral Characters         NaN         NaN  Female Characters  NaN   \n",
       "13001      Bad Characters         NaN  Black Hair    Male Characters  NaN   \n",
       "2586       Bad Characters   Blue Eyes  Brown Hair    Male Characters  NaN   \n",
       "\n",
       "                     ALIVE  APPEARANCES FIRST APPEARANCE    YEAR publisher  \n",
       "12887    Living Characters          1.0           Feb-89  1989.0    Marvel  \n",
       "5967     Living Characters          1.0     1999, August  1999.0        DC  \n",
       "14715  Deceased Characters          1.0           Nov-09  2009.0    Marvel  \n",
       "13001    Living Characters          1.0           Nov-90  1990.0    Marvel  \n",
       "2586     Living Characters         13.0           Jul-71  1971.0    Marvel  "
      ]
     },
     "execution_count": 10,
     "metadata": {},
     "output_type": "execute_result"
    }
   ],
   "source": [
    "# check what's inside\n",
    "comic_ch1_df.sample(5)"
   ]
  },
  {
   "cell_type": "code",
   "execution_count": 11,
   "metadata": {},
   "outputs": [
    {
     "data": {
      "text/html": [
       "\n",
       "<div id=\"altair-viz-b39b20807ef7496e99fa7f2826a9aa64\"></div>\n",
       "<script type=\"text/javascript\">\n",
       "  (function(spec, embedOpt){\n",
       "    let outputDiv = document.currentScript.previousElementSibling;\n",
       "    if (outputDiv.id !== \"altair-viz-b39b20807ef7496e99fa7f2826a9aa64\") {\n",
       "      outputDiv = document.getElementById(\"altair-viz-b39b20807ef7496e99fa7f2826a9aa64\");\n",
       "    }\n",
       "    const paths = {\n",
       "      \"vega\": \"https://cdn.jsdelivr.net/npm//vega@5?noext\",\n",
       "      \"vega-lib\": \"https://cdn.jsdelivr.net/npm//vega-lib?noext\",\n",
       "      \"vega-lite\": \"https://cdn.jsdelivr.net/npm//vega-lite@4.8.1?noext\",\n",
       "      \"vega-embed\": \"https://cdn.jsdelivr.net/npm//vega-embed@6?noext\",\n",
       "    };\n",
       "\n",
       "    function loadScript(lib) {\n",
       "      return new Promise(function(resolve, reject) {\n",
       "        var s = document.createElement('script');\n",
       "        s.src = paths[lib];\n",
       "        s.async = true;\n",
       "        s.onload = () => resolve(paths[lib]);\n",
       "        s.onerror = () => reject(`Error loading script: ${paths[lib]}`);\n",
       "        document.getElementsByTagName(\"head\")[0].appendChild(s);\n",
       "      });\n",
       "    }\n",
       "\n",
       "    function showError(err) {\n",
       "      outputDiv.innerHTML = `<div class=\"error\" style=\"color:red;\">${err}</div>`;\n",
       "      throw err;\n",
       "    }\n",
       "\n",
       "    function displayChart(vegaEmbed) {\n",
       "      vegaEmbed(outputDiv, spec, embedOpt)\n",
       "        .catch(err => showError(`Javascript Error: ${err.message}<br>This usually means there's a typo in your chart specification. See the javascript console for the full traceback.`));\n",
       "    }\n",
       "\n",
       "    if(typeof define === \"function\" && define.amd) {\n",
       "      requirejs.config({paths});\n",
       "      require([\"vega-embed\"], displayChart, err => showError(`Error loading script: ${err.message}`));\n",
       "    } else if (typeof vegaEmbed === \"function\") {\n",
       "      displayChart(vegaEmbed);\n",
       "    } else {\n",
       "      loadScript(\"vega\")\n",
       "        .then(() => loadScript(\"vega-lite\"))\n",
       "        .then(() => loadScript(\"vega-embed\"))\n",
       "        .catch(showError)\n",
       "        .then(() => displayChart(vegaEmbed));\n",
       "    }\n",
       "  })({\"usermeta\": {\"embedOptions\": {\"theme\": \"fivethirtyeight\"}}, \"config\": {\"view\": {\"continuousWidth\": 400, \"continuousHeight\": 300, \"strokeWidth\": 0}}, \"vconcat\": [{\"hconcat\": [{\"mark\": {\"type\": \"bar\", \"size\": 2.5}, \"encoding\": {\"x\": {\"type\": \"nominal\", \"axis\": {\"grid\": true, \"labelAngle\": 360, \"labelFontSize\": 15, \"labelFontWeight\": \"bold\", \"labels\": true, \"ticks\": false, \"title\": \"DC, New Earth continuity\", \"titlePadding\": -347, \"values\": [1940, 1960, 1980, 2000]}, \"field\": \"YEAR\"}, \"y\": {\"type\": \"quantitative\", \"aggregate\": \"count\", \"axis\": {\"labelFontSize\": 15, \"labelFontWeight\": \"bold\", \"title\": null, \"values\": [0, 100, 200, 300, 400, 500]}, \"scale\": {\"domain\": [0, 500]}}}, \"height\": 300, \"transform\": [{\"filter\": \"(datum.publisher === 'DC')\"}], \"width\": 240}, {\"mark\": {\"type\": \"bar\", \"color\": \"#f6573f\"}, \"encoding\": {\"x\": {\"type\": \"nominal\", \"axis\": {\"grid\": true, \"labelAngle\": 360, \"labelFontSize\": 15, \"labelFontWeight\": \"bold\", \"labels\": true, \"ticks\": false, \"title\": \"Marvel, Earth-616 continuity\", \"titlePadding\": -347, \"values\": [1940, 1960, 1980, 2000]}, \"field\": \"YEAR\"}, \"y\": {\"type\": \"quantitative\", \"aggregate\": \"count\", \"axis\": {\"labelFontSize\": 15, \"labelFontWeight\": \"bold\", \"title\": null, \"values\": [0, 100, 200, 300, 400, 500]}, \"scale\": {\"domain\": [0, 500]}}}, \"height\": 300, \"transform\": [{\"filter\": \"(datum.publisher === 'Marvel')\"}], \"width\": 240}], \"resolve\": {\"scale\": {\"y\": \"shared\"}}, \"title\": \"New Comic Book Characters Introduced Per Year\"}, {\"hconcat\": [{\"mark\": \"line\", \"encoding\": {\"color\": {\"type\": \"nominal\", \"field\": \"SEX\", \"legend\": {\"orient\": \"bottom\"}, \"scale\": {\"domain\": [\"Female Characters\", \"Male Characters\"], \"range\": [\"#31a354\", \"#ce6dbd\"]}}, \"x\": {\"type\": \"nominal\", \"axis\": {\"grid\": true, \"labelAngle\": 360, \"labelFontSize\": 15, \"labelFontWeight\": \"bold\", \"title\": \"Dc, Female and Male characters over time\", \"titleFontSize\": 12, \"titlePadding\": -130, \"values\": [1940, 1960, 1980, 2000]}, \"field\": \"YEAR\"}, \"y\": {\"type\": \"quantitative\", \"aggregate\": \"count\", \"axis\": {\"grid\": false, \"labelFontSize\": 15, \"labelFontWeight\": \"bold\", \"title\": null}}}, \"height\": 80, \"transform\": [{\"filter\": \"(datum.publisher === 'DC')\"}], \"width\": 240}, {\"mark\": \"line\", \"encoding\": {\"color\": {\"type\": \"nominal\", \"field\": \"SEX\", \"legend\": {\"orient\": \"bottom\"}, \"scale\": {\"domain\": [\"Female Characters\", \"Male Characters\"], \"range\": [\"#31a354\", \"#ce6dbd\"]}}, \"x\": {\"type\": \"nominal\", \"axis\": {\"grid\": true, \"labelAngle\": 360, \"labelFontSize\": 15, \"labelFontWeight\": \"bold\", \"title\": \"Marvel, Female and Male characters over time\", \"titleFontSize\": 12, \"titlePadding\": -130, \"values\": [1940, 1960, 1980, 2000]}, \"field\": \"YEAR\"}, \"y\": {\"type\": \"quantitative\", \"aggregate\": \"count\", \"axis\": {\"grid\": false, \"labelFontSize\": 15, \"labelFontWeight\": \"bold\", \"title\": null}}}, \"height\": 80, \"transform\": [{\"filter\": \"(datum.publisher === 'Marvel')\"}], \"width\": 240}], \"resolve\": {\"scale\": {\"y\": \"shared\"}}}], \"data\": {\"url\": \"altair-data-fb3f5fa205f4481ca029c6794db6019c.json\", \"format\": {\"type\": \"json\"}}, \"$schema\": \"https://vega.github.io/schema/vega-lite/v4.8.1.json\"}, {\"mode\": \"vega-lite\"});\n",
       "</script>"
      ],
      "text/plain": [
       "alt.VConcatChart(...)"
      ]
     },
     "execution_count": 11,
     "metadata": {},
     "output_type": "execute_result"
    }
   ],
   "source": [
    "# we're largely going to use the same \"base\" visualization here for the bar. We can start with a bar\n",
    "# chart and then change the details. The Y axis will be the count()\n",
    "p1_bar_base = alt.Chart(comic).mark_bar(size=2.5).encode( \n",
    "    alt.Y('count():Q', \n",
    "          axis=alt.Axis(values=[0, 100, 200, 300, 400, 500], \n",
    "                        title=None,\n",
    "                        labelFontWeight=\"bold\",\n",
    "                        labelFontSize=15),\n",
    "          scale=alt.Scale(domain=[0, 500]))).properties(\n",
    "                 width=240,\n",
    "                 height=300\n",
    ")\n",
    "\n",
    "\n",
    "\n",
    "# let's create the bar chart for DC. We'll take the \"base\" chart\n",
    "bar_dc = p1_bar_base.encode(alt.X('YEAR:N',  # create the X axis based on year and fix the look of the axes\n",
    "                               axis=alt.Axis(values=[1940, 1960, 1980, 2000], labels=True, ticks=False,grid=True,\n",
    "                                             title=\"DC, New Earth continuity\",\n",
    "                                             titlePadding=-347, \n",
    "                                             labelAngle=360,\n",
    "                                             labelFontWeight=\"bold\",\n",
    "                                             labelFontSize=15,)),\n",
    "        ).transform_filter(\n",
    "            # we will use Altair's filter to only keep DC for this chart\n",
    "            alt.datum.publisher == 'DC'\n",
    "        )\n",
    "\n",
    "# let's do the same thing for marvel\n",
    "bar_marvel = p1_bar_base.mark_bar(color='#f6573f').encode(alt.X('YEAR:N', # create the X axis based on year \n",
    "                            # fix the look of the axes\n",
    "                           axis=alt.Axis(values=[1940, 1960, 1980, 2000], labels=True, ticks=False,grid=True,\n",
    "                                         title=\"Marvel, Earth-616 continuity\",\n",
    "                                         titlePadding=-347,\n",
    "                                         labelAngle=360,\n",
    "                                         labelFontWeight=\"bold\",\n",
    "                                         labelFontSize=15)),\n",
    "        ).transform_filter(\n",
    "            # we will use Altair's filter to only keep DC for this chart\n",
    "            alt.datum.publisher == 'Marvel'\n",
    "        )\n",
    "\n",
    "\n",
    "\n",
    "# let's create a new \"base\" chart for the two line charts. We'll take the bar chart base above\n",
    "# and modify it to use a line chart\n",
    "p1_line_base = p1_bar_base.mark_line().encode(\n",
    "     # the X axis will be year\n",
    "     alt.X('YEAR:N'),\n",
    "     # the Y axis will be the count (the number of points that year)\n",
    "     alt.Y('count():Q', axis=alt.Axis(grid=False, \n",
    "                                    labelFontWeight=\"bold\",\n",
    "                                    labelFontSize=15, \n",
    "                                    title=None)),\n",
    "     # let's split the data and color by SEX\n",
    "     alt.Color('SEX', \n",
    "              scale = alt.Scale(domain=['Female Characters', 'Male Characters'], range=['#31a354', '#ce6dbd']),\n",
    "              legend=alt.Legend(orient=\"bottom\"))\n",
    "    ).properties(\n",
    "                width=240, height=80\n",
    "     )\n",
    "\n",
    "\n",
    "line_dc = p1_line_base.encode(alt.X('YEAR:N',\n",
    "                                       axis=alt.Axis(values=[1940, 1960, 1980, 2000], \n",
    "                                                              grid=True, \n",
    "                                                              labelAngle=360,\n",
    "                                                              labelFontWeight=\"bold\",\n",
    "                                                              labelFontSize=15,\n",
    "                                                              title = 'Dc, Female and Male characters over time',\n",
    "                                                              titlePadding=-130,\n",
    "                                                              titleFontSize = 12\n",
    "                                                             )\n",
    "                                      )\n",
    "            ).transform_filter(\n",
    "                # this is the DC line chart, so we only want DC\n",
    "                alt.datum.publisher == 'DC'\n",
    "            )\n",
    "\n",
    "\n",
    "\n",
    "line_marvel = p1_line_base.encode(alt.X('YEAR:N', \n",
    "                                    axis=alt.Axis(values=[1940, 1960, 1980, 2000], \n",
    "                                                          grid=True, \n",
    "                                                          labelAngle=360,\n",
    "                                                          labelFontWeight=\"bold\",\n",
    "                                                          labelFontSize=15,\n",
    "                                                          title = 'Marvel, Female and Male characters over time',\n",
    "                                                          titlePadding=-130,\n",
    "                                                          titleFontSize = 12\n",
    "                                                         )\n",
    "                                    )\n",
    "            ).transform_filter(\n",
    "                # this is the Marvel line chart, so we only want Marvel\n",
    "                alt.datum.publisher == 'Marvel'\n",
    "            )\n",
    "\n",
    "\n",
    "\n",
    "# let's put everything together\n",
    "# top piece \n",
    "top_charts = alt.hconcat(bar_dc,bar_marvel).resolve_scale(y='shared'\n",
    "           ).properties(\n",
    "                    title='New Comic Book Characters Introduced Per Year'\n",
    "           )\n",
    "\n",
    "# bottom piece\n",
    "bottom_charts = alt.hconcat(line_dc,line_marvel).resolve_scale(y='shared')\n",
    "\n",
    "alt.vconcat(top_charts,bottom_charts).configure_view(\n",
    "    strokeWidth=0\n",
    ")\n"
   ]
  },
  {
   "cell_type": "markdown",
   "metadata": {
    "deletable": false,
    "editable": false,
    "nbgrader": {
     "checksum": "b527d97d186ddf8d29fc269f11f77dc0",
     "grade": false,
     "grade_id": "cell-cf374dcf5751568d",
     "locked": true,
     "schema_version": 1,
     "solution": false
    }
   },
   "source": [
    "Now we have the chart we need, but here is where you have to start doing some work. For this problem, we'll do this a little bit at a time."
   ]
  },
  {
   "cell_type": "markdown",
   "metadata": {
    "deletable": false,
    "editable": false,
    "nbgrader": {
     "checksum": "6c584482fa8668fc8d1f070295cdd468",
     "grade": false,
     "grade_id": "cell-568e8f5cce3e7d4d",
     "locked": true,
     "schema_version": 1,
     "solution": false
    }
   },
   "source": [
    "### Problem 2.1.1 \n",
    "\n",
    "First, modify the code below to create a \"brush\" object (a \"selection\" in Altair speak) that will let us select a time range. For all these, you should take a look at the examples on [this page](https://altair-viz.github.io/user_guide/interactions.html) to identify the right (and the lab)."
   ]
  },
  {
   "cell_type": "code",
   "execution_count": 12,
   "metadata": {
    "deletable": false,
    "nbgrader": {
     "checksum": "4d8b3db3cfa9512f3d7f8824ce6e24c6",
     "grade": true,
     "grade_id": "cell-ecefd1b67db28a1f",
     "locked": false,
     "points": 0,
     "schema_version": 1,
     "solution": true
    }
   },
   "outputs": [],
   "source": [
    "# modify this cell to create the brush object\n",
    "brush = alt.selection_interval()\n",
    "\n"
   ]
  },
  {
   "cell_type": "markdown",
   "metadata": {
    "deletable": false,
    "editable": false,
    "nbgrader": {
     "checksum": "3be49bc6023e7f3578ef45c29a5e211d",
     "grade": false,
     "grade_id": "cell-335d0664afb064a1",
     "locked": true,
     "schema_version": 1,
     "solution": false
    }
   },
   "source": [
    "### Problem 2.1.2 \n",
    "\n",
    "The next step is to create the condition for the DC chart. Look at the documentation for the condition. We specifically want things selected by the \"brush\" object to stay the same color (#2182bd) and the unselected content to turn gray."
   ]
  },
  {
   "cell_type": "code",
   "execution_count": 13,
   "metadata": {
    "deletable": false,
    "nbgrader": {
     "checksum": "a6c157d8cfb9c6348a91dfdaf02b0115",
     "grade": true,
     "grade_id": "cell-738ecb3e04f17ae1",
     "locked": false,
     "points": 0,
     "schema_version": 1,
     "solution": true
    }
   },
   "outputs": [],
   "source": [
    "# modify this cell to create the brush object\n",
    "colorConditionDC = alt.condition(brush, alt.value('#008fd5'), alt.value('gray'), legend=None)\n",
    "\n",
    "\n"
   ]
  },
  {
   "cell_type": "markdown",
   "metadata": {
    "deletable": false,
    "editable": false,
    "nbgrader": {
     "checksum": "09940c36a06497e7d203b9c29ba68ceb",
     "grade": false,
     "grade_id": "cell-deae8cf0434f77c4",
     "locked": true,
     "schema_version": 1,
     "solution": false
    }
   },
   "source": [
    "### Problem 2.1.3\n",
    "\n",
    "Finally, we need to add both the condition and selection to the ```bar_dc``` chart. We'll call this new chart ```i_bar_dc``` (i for interactive). Remember that you can \"override\" or modify a chart by simply taking the original chart and adding an encode or some other function to it.  For example the line:\n",
    "\n",
    "```i_bar_dc = bar_dc.encode(color = 'TEST')```\n",
    "\n",
    "will take the original chart with all its original settings and make the color encoding based on the TEST column (which doesn't exist in this case). If there was a color encoding in ```bar_dc```, it will be overridden by TEST. If there wasn't one, it will be added."
   ]
  },
  {
   "cell_type": "code",
   "execution_count": 14,
   "metadata": {
    "deletable": false,
    "nbgrader": {
     "checksum": "beba450b853d65e4fa6eda062e50cb37",
     "grade": true,
     "grade_id": "cell-583afd8f5835c173",
     "locked": false,
     "points": 0,
     "schema_version": 1,
     "solution": true
    }
   },
   "outputs": [],
   "source": [
    "# modify this cell to create the brush object\n",
    "i_bar_dc = bar_dc.add_selection(\n",
    "    #step 3\n",
    "    brush\n",
    ").encode(\n",
    "    #step 4,\n",
    "    color=colorConditionDC   \n",
    ")\n",
    "\n",
    "\n"
   ]
  },
  {
   "cell_type": "code",
   "execution_count": 15,
   "metadata": {},
   "outputs": [
    {
     "data": {
      "text/html": [
       "\n",
       "<div id=\"altair-viz-90d595d7246e4c4e9b8ad9d77fc16b8b\"></div>\n",
       "<script type=\"text/javascript\">\n",
       "  (function(spec, embedOpt){\n",
       "    let outputDiv = document.currentScript.previousElementSibling;\n",
       "    if (outputDiv.id !== \"altair-viz-90d595d7246e4c4e9b8ad9d77fc16b8b\") {\n",
       "      outputDiv = document.getElementById(\"altair-viz-90d595d7246e4c4e9b8ad9d77fc16b8b\");\n",
       "    }\n",
       "    const paths = {\n",
       "      \"vega\": \"https://cdn.jsdelivr.net/npm//vega@5?noext\",\n",
       "      \"vega-lib\": \"https://cdn.jsdelivr.net/npm//vega-lib?noext\",\n",
       "      \"vega-lite\": \"https://cdn.jsdelivr.net/npm//vega-lite@4.8.1?noext\",\n",
       "      \"vega-embed\": \"https://cdn.jsdelivr.net/npm//vega-embed@6?noext\",\n",
       "    };\n",
       "\n",
       "    function loadScript(lib) {\n",
       "      return new Promise(function(resolve, reject) {\n",
       "        var s = document.createElement('script');\n",
       "        s.src = paths[lib];\n",
       "        s.async = true;\n",
       "        s.onload = () => resolve(paths[lib]);\n",
       "        s.onerror = () => reject(`Error loading script: ${paths[lib]}`);\n",
       "        document.getElementsByTagName(\"head\")[0].appendChild(s);\n",
       "      });\n",
       "    }\n",
       "\n",
       "    function showError(err) {\n",
       "      outputDiv.innerHTML = `<div class=\"error\" style=\"color:red;\">${err}</div>`;\n",
       "      throw err;\n",
       "    }\n",
       "\n",
       "    function displayChart(vegaEmbed) {\n",
       "      vegaEmbed(outputDiv, spec, embedOpt)\n",
       "        .catch(err => showError(`Javascript Error: ${err.message}<br>This usually means there's a typo in your chart specification. See the javascript console for the full traceback.`));\n",
       "    }\n",
       "\n",
       "    if(typeof define === \"function\" && define.amd) {\n",
       "      requirejs.config({paths});\n",
       "      require([\"vega-embed\"], displayChart, err => showError(`Error loading script: ${err.message}`));\n",
       "    } else if (typeof vegaEmbed === \"function\") {\n",
       "      displayChart(vegaEmbed);\n",
       "    } else {\n",
       "      loadScript(\"vega\")\n",
       "        .then(() => loadScript(\"vega-lite\"))\n",
       "        .then(() => loadScript(\"vega-embed\"))\n",
       "        .catch(showError)\n",
       "        .then(() => displayChart(vegaEmbed));\n",
       "    }\n",
       "  })({\"usermeta\": {\"embedOptions\": {\"theme\": \"fivethirtyeight\"}}, \"config\": {\"view\": {\"continuousWidth\": 400, \"continuousHeight\": 300}}, \"data\": {\"url\": \"altair-data-fb3f5fa205f4481ca029c6794db6019c.json\", \"format\": {\"type\": \"json\"}}, \"mark\": {\"type\": \"bar\", \"size\": 2.5}, \"encoding\": {\"color\": {\"condition\": {\"value\": \"#008fd5\", \"selection\": \"selector001\"}, \"value\": \"gray\"}, \"x\": {\"type\": \"nominal\", \"axis\": {\"grid\": true, \"labelAngle\": 360, \"labelFontSize\": 15, \"labelFontWeight\": \"bold\", \"labels\": true, \"ticks\": false, \"title\": \"DC, New Earth continuity\", \"titlePadding\": -347, \"values\": [1940, 1960, 1980, 2000]}, \"field\": \"YEAR\"}, \"y\": {\"type\": \"quantitative\", \"aggregate\": \"count\", \"axis\": {\"labelFontSize\": 15, \"labelFontWeight\": \"bold\", \"title\": null, \"values\": [0, 100, 200, 300, 400, 500]}, \"scale\": {\"domain\": [0, 500]}}}, \"height\": 300, \"selection\": {\"selector001\": {\"type\": \"interval\"}}, \"transform\": [{\"filter\": \"(datum.publisher === 'DC')\"}], \"width\": 240, \"$schema\": \"https://vega.github.io/schema/vega-lite/v4.8.1.json\"}, {\"mode\": \"vega-lite\"});\n",
       "</script>"
      ],
      "text/plain": [
       "alt.Chart(...)"
      ]
     },
     "execution_count": 15,
     "metadata": {},
     "output_type": "execute_result"
    }
   ],
   "source": [
    "# if you did the last step correctly, you should be able to see the selection work for the DC bar chart\n",
    "i_bar_dc"
   ]
  },
  {
   "cell_type": "markdown",
   "metadata": {
    "deletable": false,
    "editable": false,
    "nbgrader": {
     "checksum": "574794cea7c7ccc29a33eb7eb03bde72",
     "grade": false,
     "grade_id": "cell-8bd76682358ed8a4",
     "locked": true,
     "schema_version": 1,
     "solution": false
    }
   },
   "source": [
    "### Problem 2.1.4\n",
    "\n",
    "Do the same thing for the marvel chart. Create the color condition for marvel (selected should be #f6573f, unselected should be gray). Then add the brush and condition to the ```bar_marvel``` to create ```i_bar_marvel```"
   ]
  },
  {
   "cell_type": "code",
   "execution_count": 16,
   "metadata": {
    "deletable": false,
    "nbgrader": {
     "checksum": "c333a6b310fb18ed1baf9ae45223cfd3",
     "grade": true,
     "grade_id": "cell-1d6b10c5e300593a",
     "locked": false,
     "points": 0,
     "schema_version": 1,
     "solution": true
    }
   },
   "outputs": [],
   "source": [
    "# modify the following two lines\n",
    "colorConditionMarvel = alt.condition(brush,alt.value('#f6573f'),alt.value('gray'),legend=None)\n",
    "i_bar_marvel = bar_marvel.add_selection(\n",
    "    #step 3\n",
    "    brush\n",
    ").encode(\n",
    "    #step 4,\n",
    "    color=colorConditionMarvel,   \n",
    ")\n",
    "\n",
    "\n"
   ]
  },
  {
   "cell_type": "code",
   "execution_count": 17,
   "metadata": {},
   "outputs": [
    {
     "data": {
      "text/html": [
       "\n",
       "<div id=\"altair-viz-a585834167bb406f822642c0ee7289fd\"></div>\n",
       "<script type=\"text/javascript\">\n",
       "  (function(spec, embedOpt){\n",
       "    let outputDiv = document.currentScript.previousElementSibling;\n",
       "    if (outputDiv.id !== \"altair-viz-a585834167bb406f822642c0ee7289fd\") {\n",
       "      outputDiv = document.getElementById(\"altair-viz-a585834167bb406f822642c0ee7289fd\");\n",
       "    }\n",
       "    const paths = {\n",
       "      \"vega\": \"https://cdn.jsdelivr.net/npm//vega@5?noext\",\n",
       "      \"vega-lib\": \"https://cdn.jsdelivr.net/npm//vega-lib?noext\",\n",
       "      \"vega-lite\": \"https://cdn.jsdelivr.net/npm//vega-lite@4.8.1?noext\",\n",
       "      \"vega-embed\": \"https://cdn.jsdelivr.net/npm//vega-embed@6?noext\",\n",
       "    };\n",
       "\n",
       "    function loadScript(lib) {\n",
       "      return new Promise(function(resolve, reject) {\n",
       "        var s = document.createElement('script');\n",
       "        s.src = paths[lib];\n",
       "        s.async = true;\n",
       "        s.onload = () => resolve(paths[lib]);\n",
       "        s.onerror = () => reject(`Error loading script: ${paths[lib]}`);\n",
       "        document.getElementsByTagName(\"head\")[0].appendChild(s);\n",
       "      });\n",
       "    }\n",
       "\n",
       "    function showError(err) {\n",
       "      outputDiv.innerHTML = `<div class=\"error\" style=\"color:red;\">${err}</div>`;\n",
       "      throw err;\n",
       "    }\n",
       "\n",
       "    function displayChart(vegaEmbed) {\n",
       "      vegaEmbed(outputDiv, spec, embedOpt)\n",
       "        .catch(err => showError(`Javascript Error: ${err.message}<br>This usually means there's a typo in your chart specification. See the javascript console for the full traceback.`));\n",
       "    }\n",
       "\n",
       "    if(typeof define === \"function\" && define.amd) {\n",
       "      requirejs.config({paths});\n",
       "      require([\"vega-embed\"], displayChart, err => showError(`Error loading script: ${err.message}`));\n",
       "    } else if (typeof vegaEmbed === \"function\") {\n",
       "      displayChart(vegaEmbed);\n",
       "    } else {\n",
       "      loadScript(\"vega\")\n",
       "        .then(() => loadScript(\"vega-lite\"))\n",
       "        .then(() => loadScript(\"vega-embed\"))\n",
       "        .catch(showError)\n",
       "        .then(() => displayChart(vegaEmbed));\n",
       "    }\n",
       "  })({\"usermeta\": {\"embedOptions\": {\"theme\": \"fivethirtyeight\"}}, \"config\": {\"view\": {\"continuousWidth\": 400, \"continuousHeight\": 300}}, \"hconcat\": [{\"mark\": {\"type\": \"bar\", \"size\": 2.5}, \"encoding\": {\"color\": {\"condition\": {\"value\": \"#008fd5\", \"selection\": \"selector001\"}, \"value\": \"gray\"}, \"x\": {\"type\": \"nominal\", \"axis\": {\"grid\": true, \"labelAngle\": 360, \"labelFontSize\": 15, \"labelFontWeight\": \"bold\", \"labels\": true, \"ticks\": false, \"title\": \"DC, New Earth continuity\", \"titlePadding\": -347, \"values\": [1940, 1960, 1980, 2000]}, \"field\": \"YEAR\"}, \"y\": {\"type\": \"quantitative\", \"aggregate\": \"count\", \"axis\": {\"labelFontSize\": 15, \"labelFontWeight\": \"bold\", \"title\": null, \"values\": [0, 100, 200, 300, 400, 500]}, \"scale\": {\"domain\": [0, 500]}}}, \"height\": 300, \"selection\": {\"selector001\": {\"type\": \"interval\"}}, \"transform\": [{\"filter\": \"(datum.publisher === 'DC')\"}], \"width\": 240}, {\"mark\": {\"type\": \"bar\", \"color\": \"#f6573f\"}, \"encoding\": {\"color\": {\"condition\": {\"value\": \"#f6573f\", \"selection\": \"selector001\"}, \"value\": \"gray\"}, \"x\": {\"type\": \"nominal\", \"axis\": {\"grid\": true, \"labelAngle\": 360, \"labelFontSize\": 15, \"labelFontWeight\": \"bold\", \"labels\": true, \"ticks\": false, \"title\": \"Marvel, Earth-616 continuity\", \"titlePadding\": -347, \"values\": [1940, 1960, 1980, 2000]}, \"field\": \"YEAR\"}, \"y\": {\"type\": \"quantitative\", \"aggregate\": \"count\", \"axis\": {\"labelFontSize\": 15, \"labelFontWeight\": \"bold\", \"title\": null, \"values\": [0, 100, 200, 300, 400, 500]}, \"scale\": {\"domain\": [0, 500]}}}, \"height\": 300, \"selection\": {\"selector001\": {\"type\": \"interval\"}}, \"transform\": [{\"filter\": \"(datum.publisher === 'Marvel')\"}], \"width\": 240}], \"data\": {\"url\": \"altair-data-fb3f5fa205f4481ca029c6794db6019c.json\", \"format\": {\"type\": \"json\"}}, \"resolve\": {\"scale\": {\"y\": \"shared\"}}, \"title\": \"New Comic Book Characters Introduced Per Year\", \"$schema\": \"https://vega.github.io/schema/vega-lite/v4.8.1.json\"}, {\"mode\": \"vega-lite\"});\n",
       "</script>"
      ],
      "text/plain": [
       "alt.HConcatChart(...)"
      ]
     },
     "execution_count": 17,
     "metadata": {},
     "output_type": "execute_result"
    }
   ],
   "source": [
    "# top piece \n",
    "top_charts = alt.hconcat(i_bar_dc,i_bar_marvel).resolve_scale(y='shared'\n",
    "           ).properties(\n",
    "                    title='New Comic Book Characters Introduced Per Year'\n",
    "           )\n",
    "\n",
    "# if you did the two bar charts correctly, you should now be able to interactively select\n",
    "# (and the selections should be linked)\n",
    "top_charts"
   ]
  },
  {
   "cell_type": "markdown",
   "metadata": {
    "deletable": false,
    "editable": false,
    "nbgrader": {
     "checksum": "30da24222f130efd6ee03242b9f795c4",
     "grade": false,
     "grade_id": "cell-95f9846e45ecb48b",
     "locked": true,
     "schema_version": 1,
     "solution": false
    }
   },
   "source": [
    "### Problem 2.1.5\n",
    "\n",
    "The last step is to modify the two line charts. Again, you'll want to start with ```line_dc``` and ```line_marvel``` to create the new charts."
   ]
  },
  {
   "cell_type": "code",
   "execution_count": 18,
   "metadata": {
    "deletable": false,
    "nbgrader": {
     "checksum": "e0c4c5a58e6f574d103fc20964418da3",
     "grade": true,
     "grade_id": "cell-06124043d0abbbf5",
     "locked": false,
     "points": 0,
     "schema_version": 1,
     "solution": true
    }
   },
   "outputs": [],
   "source": [
    "# modify the code below\n",
    "i_line_dc = line_dc.add_selection(\n",
    "    #step 3\n",
    "    brush\n",
    ").transform_filter(brush)\n",
    "\n",
    "\n",
    "i_line_marvel = line_marvel.add_selection(\n",
    "    #step 3\n",
    "    brush\n",
    ").transform_filter(brush)\n",
    "\n",
    "\n",
    "\n"
   ]
  },
  {
   "cell_type": "code",
   "execution_count": 19,
   "metadata": {},
   "outputs": [
    {
     "data": {
      "text/html": [
       "\n",
       "<div id=\"altair-viz-f78f022db12646738134cf066015ad83\"></div>\n",
       "<script type=\"text/javascript\">\n",
       "  (function(spec, embedOpt){\n",
       "    let outputDiv = document.currentScript.previousElementSibling;\n",
       "    if (outputDiv.id !== \"altair-viz-f78f022db12646738134cf066015ad83\") {\n",
       "      outputDiv = document.getElementById(\"altair-viz-f78f022db12646738134cf066015ad83\");\n",
       "    }\n",
       "    const paths = {\n",
       "      \"vega\": \"https://cdn.jsdelivr.net/npm//vega@5?noext\",\n",
       "      \"vega-lib\": \"https://cdn.jsdelivr.net/npm//vega-lib?noext\",\n",
       "      \"vega-lite\": \"https://cdn.jsdelivr.net/npm//vega-lite@4.8.1?noext\",\n",
       "      \"vega-embed\": \"https://cdn.jsdelivr.net/npm//vega-embed@6?noext\",\n",
       "    };\n",
       "\n",
       "    function loadScript(lib) {\n",
       "      return new Promise(function(resolve, reject) {\n",
       "        var s = document.createElement('script');\n",
       "        s.src = paths[lib];\n",
       "        s.async = true;\n",
       "        s.onload = () => resolve(paths[lib]);\n",
       "        s.onerror = () => reject(`Error loading script: ${paths[lib]}`);\n",
       "        document.getElementsByTagName(\"head\")[0].appendChild(s);\n",
       "      });\n",
       "    }\n",
       "\n",
       "    function showError(err) {\n",
       "      outputDiv.innerHTML = `<div class=\"error\" style=\"color:red;\">${err}</div>`;\n",
       "      throw err;\n",
       "    }\n",
       "\n",
       "    function displayChart(vegaEmbed) {\n",
       "      vegaEmbed(outputDiv, spec, embedOpt)\n",
       "        .catch(err => showError(`Javascript Error: ${err.message}<br>This usually means there's a typo in your chart specification. See the javascript console for the full traceback.`));\n",
       "    }\n",
       "\n",
       "    if(typeof define === \"function\" && define.amd) {\n",
       "      requirejs.config({paths});\n",
       "      require([\"vega-embed\"], displayChart, err => showError(`Error loading script: ${err.message}`));\n",
       "    } else if (typeof vegaEmbed === \"function\") {\n",
       "      displayChart(vegaEmbed);\n",
       "    } else {\n",
       "      loadScript(\"vega\")\n",
       "        .then(() => loadScript(\"vega-lite\"))\n",
       "        .then(() => loadScript(\"vega-embed\"))\n",
       "        .catch(showError)\n",
       "        .then(() => displayChart(vegaEmbed));\n",
       "    }\n",
       "  })({\"usermeta\": {\"embedOptions\": {\"theme\": \"fivethirtyeight\"}}, \"config\": {\"view\": {\"continuousWidth\": 400, \"continuousHeight\": 300, \"strokeWidth\": 0}}, \"vconcat\": [{\"hconcat\": [{\"mark\": {\"type\": \"bar\", \"size\": 2.5}, \"encoding\": {\"color\": {\"condition\": {\"value\": \"#008fd5\", \"selection\": \"selector001\"}, \"value\": \"gray\"}, \"x\": {\"type\": \"nominal\", \"axis\": {\"grid\": true, \"labelAngle\": 360, \"labelFontSize\": 15, \"labelFontWeight\": \"bold\", \"labels\": true, \"ticks\": false, \"title\": \"DC, New Earth continuity\", \"titlePadding\": -347, \"values\": [1940, 1960, 1980, 2000]}, \"field\": \"YEAR\"}, \"y\": {\"type\": \"quantitative\", \"aggregate\": \"count\", \"axis\": {\"labelFontSize\": 15, \"labelFontWeight\": \"bold\", \"title\": null, \"values\": [0, 100, 200, 300, 400, 500]}, \"scale\": {\"domain\": [0, 500]}}}, \"height\": 300, \"selection\": {\"selector001\": {\"type\": \"interval\"}}, \"transform\": [{\"filter\": \"(datum.publisher === 'DC')\"}], \"width\": 240}, {\"mark\": {\"type\": \"bar\", \"color\": \"#f6573f\"}, \"encoding\": {\"color\": {\"condition\": {\"value\": \"#f6573f\", \"selection\": \"selector001\"}, \"value\": \"gray\"}, \"x\": {\"type\": \"nominal\", \"axis\": {\"grid\": true, \"labelAngle\": 360, \"labelFontSize\": 15, \"labelFontWeight\": \"bold\", \"labels\": true, \"ticks\": false, \"title\": \"Marvel, Earth-616 continuity\", \"titlePadding\": -347, \"values\": [1940, 1960, 1980, 2000]}, \"field\": \"YEAR\"}, \"y\": {\"type\": \"quantitative\", \"aggregate\": \"count\", \"axis\": {\"labelFontSize\": 15, \"labelFontWeight\": \"bold\", \"title\": null, \"values\": [0, 100, 200, 300, 400, 500]}, \"scale\": {\"domain\": [0, 500]}}}, \"height\": 300, \"selection\": {\"selector001\": {\"type\": \"interval\"}}, \"transform\": [{\"filter\": \"(datum.publisher === 'Marvel')\"}], \"width\": 240}], \"resolve\": {\"scale\": {\"y\": \"shared\"}}, \"title\": \"New Comic Book Characters Introduced Per Year\"}, {\"hconcat\": [{\"mark\": \"line\", \"encoding\": {\"color\": {\"type\": \"nominal\", \"field\": \"SEX\", \"legend\": {\"orient\": \"bottom\"}, \"scale\": {\"domain\": [\"Female Characters\", \"Male Characters\"], \"range\": [\"#31a354\", \"#ce6dbd\"]}}, \"x\": {\"type\": \"nominal\", \"axis\": {\"grid\": true, \"labelAngle\": 360, \"labelFontSize\": 15, \"labelFontWeight\": \"bold\", \"title\": \"Dc, Female and Male characters over time\", \"titleFontSize\": 12, \"titlePadding\": -130, \"values\": [1940, 1960, 1980, 2000]}, \"field\": \"YEAR\"}, \"y\": {\"type\": \"quantitative\", \"aggregate\": \"count\", \"axis\": {\"grid\": false, \"labelFontSize\": 15, \"labelFontWeight\": \"bold\", \"title\": null}}}, \"height\": 80, \"selection\": {\"selector001\": {\"type\": \"interval\"}}, \"transform\": [{\"filter\": \"(datum.publisher === 'DC')\"}, {\"filter\": {\"selection\": \"selector001\"}}], \"width\": 240}, {\"mark\": \"line\", \"encoding\": {\"color\": {\"type\": \"nominal\", \"field\": \"SEX\", \"legend\": {\"orient\": \"bottom\"}, \"scale\": {\"domain\": [\"Female Characters\", \"Male Characters\"], \"range\": [\"#31a354\", \"#ce6dbd\"]}}, \"x\": {\"type\": \"nominal\", \"axis\": {\"grid\": true, \"labelAngle\": 360, \"labelFontSize\": 15, \"labelFontWeight\": \"bold\", \"title\": \"Marvel, Female and Male characters over time\", \"titleFontSize\": 12, \"titlePadding\": -130, \"values\": [1940, 1960, 1980, 2000]}, \"field\": \"YEAR\"}, \"y\": {\"type\": \"quantitative\", \"aggregate\": \"count\", \"axis\": {\"grid\": false, \"labelFontSize\": 15, \"labelFontWeight\": \"bold\", \"title\": null}}}, \"height\": 80, \"selection\": {\"selector001\": {\"type\": \"interval\"}}, \"transform\": [{\"filter\": \"(datum.publisher === 'Marvel')\"}, {\"filter\": {\"selection\": \"selector001\"}}], \"width\": 240}], \"resolve\": {\"scale\": {\"y\": \"shared\"}}}], \"data\": {\"url\": \"altair-data-fb3f5fa205f4481ca029c6794db6019c.json\", \"format\": {\"type\": \"json\"}}, \"$schema\": \"https://vega.github.io/schema/vega-lite/v4.8.1.json\"}, {\"mode\": \"vega-lite\"});\n",
       "</script>"
      ],
      "text/plain": [
       "alt.VConcatChart(...)"
      ]
     },
     "execution_count": 19,
     "metadata": {},
     "output_type": "execute_result"
    }
   ],
   "source": [
    "# let's put everything together with your new interactive charts. If you did everything correctly this part\n",
    "# should generate the visualizations we want\n",
    "\n",
    "# bottom piece\n",
    "bottom_charts = alt.hconcat(i_line_dc,i_line_marvel).resolve_scale(y='shared')\n",
    "\n",
    "alt.vconcat(top_charts,bottom_charts).configure_view(\n",
    "    strokeWidth=0\n",
    ")"
   ]
  },
  {
   "cell_type": "markdown",
   "metadata": {
    "deletable": false,
    "editable": false,
    "nbgrader": {
     "checksum": "2b39c8424796356ded42b6e8d8129f61",
     "grade": false,
     "grade_id": "cell-afc1c9e04475662c",
     "locked": true,
     "schema_version": 1,
     "solution": false
    }
   },
   "source": [
    "## Problem 2.2 (35 Points)\n",
    "\n",
    "One of the issues discussed in the article is that the comics aren't gaining many female characters. \n",
    "\n",
    "![\"original 538 image of female charcters over time\"](assets/538original_2.png)\n",
    "\n",
    "This visualization is ok, but we can enhance it with some interactivity.  Let's start by dealing with the fact that the chart only presents one interesting: Percent female in any given year. It might help us understand the claim that there's a relatively trending change in this percent by plotting year-over-year percent changes. Also, it's possible that there are more characters being introduced in later years. So even one or two good years in the 2000's may make up for lots of bad years in the past (it turns out that this is not the case, but it is a question we might ask).\n",
    "\n",
    "We're going to create the table with all the necessary statistics for you next:"
   ]
  },
  {
   "cell_type": "code",
   "execution_count": 20,
   "metadata": {},
   "outputs": [],
   "source": [
    "def generatePercentTable(publisher):\n",
    "    _df = comic[comic.publisher == publisher]\n",
    "    _df = _df[['SEX','YEAR']]\n",
    "    _df = pd.get_dummies(_df)\n",
    "    _df.YEAR = _df.YEAR.astype('int')\n",
    "    _df = _df.groupby(['YEAR']).sum()\n",
    "\n",
    "    _df['total'] = 0\n",
    "    _df['total'] = _df['total'].astype('int')\n",
    "    for col in list(comic[comic.publisher == publisher].SEX.unique()):\n",
    "        col = str(col)\n",
    "        if (col != 'nan'):\n",
    "            _df['total'] = _df['total'].astype('int') + _df[\"SEX_\"+col].astype('int')\n",
    "\n",
    "    _df['% Female'] = _df['SEX_Female Characters'] / _df.total\n",
    "    _df = _df.reset_index()\n",
    "    _df = _df[['YEAR','% Female','SEX_Female Characters','SEX_Male Characters','total']]\n",
    "    _df['publisher'] = publisher\n",
    "    _df = _df[(_df.YEAR >= 1979)]\n",
    "    _df['Year-over-year change in % Female'] = _df['% Female'].pct_change()\n",
    "    toret = _df[(_df.YEAR > 1980) & (_df.YEAR < 2013)].copy()\n",
    "    t2 = toret.cumsum()\n",
    "    toret['% Female characters to date'] = list(t2['SEX_Female Characters'] / t2['total'])\n",
    "    return(toret)\n",
    "\n",
    "changedata = pd.concat([generatePercentTable(\"Marvel\"),generatePercentTable(\"DC\")])\n",
    "\n",
    "changedata = pd.melt(changedata,id_vars=['YEAR','publisher'],value_vars=['% Female',\n",
    "                                                             'Year-over-year change in % Female',\n",
    "                                                             '% Female characters to date'])"
   ]
  },
  {
   "cell_type": "code",
   "execution_count": 21,
   "metadata": {},
   "outputs": [
    {
     "data": {
      "text/html": [
       "<div>\n",
       "<style scoped>\n",
       "    .dataframe tbody tr th:only-of-type {\n",
       "        vertical-align: middle;\n",
       "    }\n",
       "\n",
       "    .dataframe tbody tr th {\n",
       "        vertical-align: top;\n",
       "    }\n",
       "\n",
       "    .dataframe thead th {\n",
       "        text-align: right;\n",
       "    }\n",
       "</style>\n",
       "<table border=\"1\" class=\"dataframe\">\n",
       "  <thead>\n",
       "    <tr style=\"text-align: right;\">\n",
       "      <th></th>\n",
       "      <th>YEAR</th>\n",
       "      <th>publisher</th>\n",
       "      <th>variable</th>\n",
       "      <th>value</th>\n",
       "    </tr>\n",
       "  </thead>\n",
       "  <tbody>\n",
       "    <tr>\n",
       "      <th>73</th>\n",
       "      <td>1990</td>\n",
       "      <td>Marvel</td>\n",
       "      <td>Year-over-year change in % Female</td>\n",
       "      <td>0.191339</td>\n",
       "    </tr>\n",
       "    <tr>\n",
       "      <th>159</th>\n",
       "      <td>2012</td>\n",
       "      <td>Marvel</td>\n",
       "      <td>% Female characters to date</td>\n",
       "      <td>0.291568</td>\n",
       "    </tr>\n",
       "    <tr>\n",
       "      <th>163</th>\n",
       "      <td>1984</td>\n",
       "      <td>DC</td>\n",
       "      <td>% Female characters to date</td>\n",
       "      <td>0.298077</td>\n",
       "    </tr>\n",
       "    <tr>\n",
       "      <th>127</th>\n",
       "      <td>2012</td>\n",
       "      <td>DC</td>\n",
       "      <td>Year-over-year change in % Female</td>\n",
       "      <td>0.168627</td>\n",
       "    </tr>\n",
       "    <tr>\n",
       "      <th>53</th>\n",
       "      <td>2002</td>\n",
       "      <td>DC</td>\n",
       "      <td>% Female</td>\n",
       "      <td>0.369369</td>\n",
       "    </tr>\n",
       "  </tbody>\n",
       "</table>\n",
       "</div>"
      ],
      "text/plain": [
       "     YEAR publisher                           variable     value\n",
       "73   1990    Marvel  Year-over-year change in % Female  0.191339\n",
       "159  2012    Marvel        % Female characters to date  0.291568\n",
       "163  1984        DC        % Female characters to date  0.298077\n",
       "127  2012        DC  Year-over-year change in % Female  0.168627\n",
       "53   2002        DC                           % Female  0.369369"
      ]
     },
     "execution_count": 21,
     "metadata": {},
     "output_type": "execute_result"
    }
   ],
   "source": [
    "# let's see what's inside\n",
    "changedata.sample(5)"
   ]
  },
  {
   "cell_type": "markdown",
   "metadata": {
    "deletable": false,
    "editable": false,
    "nbgrader": {
     "checksum": "6e814f2b3d4f2154e5e5d3ecad40667f",
     "grade": false,
     "grade_id": "cell-6642874f36b63cb3",
     "locked": true,
     "schema_version": 1,
     "solution": false
    }
   },
   "source": [
    "### Problem 2.2.1\n",
    "\n",
    "Your first job will be to create an interactive chart that has a drop-down box that allows us to select the variable of interest. Here's our target in action:\n",
    "\n",
    "![\"percent interactive example\"](assets/percentinteractive.gif)\n",
    "\n",
    "Modify ```generateLineChartP21``` below to generate this chart. If you haven't already, you'll want to take a look at the binding_select examples.  Make sure you can get the chart working without interactivity first (hint: see if you can figure out how to filter to specific variables of interest)."
   ]
  },
  {
   "cell_type": "code",
   "execution_count": 22,
   "metadata": {
    "deletable": false,
    "nbgrader": {
     "checksum": "e64bd0207c90dc3b948bca295b8f8088",
     "grade": true,
     "grade_id": "cell-504631e1df0d8575",
     "locked": false,
     "points": 0,
     "schema_version": 1,
     "solution": true
    }
   },
   "outputs": [],
   "source": [
    "def generateLineChartP21():\n",
    "    \n",
    "    metricOptions = ['% Female','Year-over-year change in % Female','% Female characters to date']\n",
    "    input_dropdown = alt.binding_select(options=metricOptions)\n",
    "    \n",
    "\n",
    "    \n",
    "    dropdown_selection = alt.selection_single(fields=['variable'], bind=input_dropdown, name='Data_', init={\"variable\":metricOptions[0]})\n",
    "    \n",
    "    line = alt.Chart(changedata).mark_line().encode(\n",
    "    x=alt.X('YEAR:N',axis=alt.Axis(values=np.arange(1981, 2013),tickCount=len(changedata), grid=True, labelAngle=300)),\n",
    "    y=alt.Y('value:Q'),\n",
    "        color = 'publisher'\n",
    "    ).add_selection(\n",
    "    dropdown_selection\n",
    ").transform_filter(\n",
    "    dropdown_selection\n",
    ")\n",
    "\n",
    "\n",
    "    \n",
    "    \n",
    "    return(line)\n",
    "\n"
   ]
  },
  {
   "cell_type": "code",
   "execution_count": 23,
   "metadata": {},
   "outputs": [
    {
     "data": {
      "text/html": [
       "\n",
       "<div id=\"altair-viz-9758c1c6a7f24bf78c69d14ac578142c\"></div>\n",
       "<script type=\"text/javascript\">\n",
       "  (function(spec, embedOpt){\n",
       "    let outputDiv = document.currentScript.previousElementSibling;\n",
       "    if (outputDiv.id !== \"altair-viz-9758c1c6a7f24bf78c69d14ac578142c\") {\n",
       "      outputDiv = document.getElementById(\"altair-viz-9758c1c6a7f24bf78c69d14ac578142c\");\n",
       "    }\n",
       "    const paths = {\n",
       "      \"vega\": \"https://cdn.jsdelivr.net/npm//vega@5?noext\",\n",
       "      \"vega-lib\": \"https://cdn.jsdelivr.net/npm//vega-lib?noext\",\n",
       "      \"vega-lite\": \"https://cdn.jsdelivr.net/npm//vega-lite@4.8.1?noext\",\n",
       "      \"vega-embed\": \"https://cdn.jsdelivr.net/npm//vega-embed@6?noext\",\n",
       "    };\n",
       "\n",
       "    function loadScript(lib) {\n",
       "      return new Promise(function(resolve, reject) {\n",
       "        var s = document.createElement('script');\n",
       "        s.src = paths[lib];\n",
       "        s.async = true;\n",
       "        s.onload = () => resolve(paths[lib]);\n",
       "        s.onerror = () => reject(`Error loading script: ${paths[lib]}`);\n",
       "        document.getElementsByTagName(\"head\")[0].appendChild(s);\n",
       "      });\n",
       "    }\n",
       "\n",
       "    function showError(err) {\n",
       "      outputDiv.innerHTML = `<div class=\"error\" style=\"color:red;\">${err}</div>`;\n",
       "      throw err;\n",
       "    }\n",
       "\n",
       "    function displayChart(vegaEmbed) {\n",
       "      vegaEmbed(outputDiv, spec, embedOpt)\n",
       "        .catch(err => showError(`Javascript Error: ${err.message}<br>This usually means there's a typo in your chart specification. See the javascript console for the full traceback.`));\n",
       "    }\n",
       "\n",
       "    if(typeof define === \"function\" && define.amd) {\n",
       "      requirejs.config({paths});\n",
       "      require([\"vega-embed\"], displayChart, err => showError(`Error loading script: ${err.message}`));\n",
       "    } else if (typeof vegaEmbed === \"function\") {\n",
       "      displayChart(vegaEmbed);\n",
       "    } else {\n",
       "      loadScript(\"vega\")\n",
       "        .then(() => loadScript(\"vega-lite\"))\n",
       "        .then(() => loadScript(\"vega-embed\"))\n",
       "        .catch(showError)\n",
       "        .then(() => displayChart(vegaEmbed));\n",
       "    }\n",
       "  })({\"usermeta\": {\"embedOptions\": {\"theme\": \"fivethirtyeight\"}}, \"config\": {\"view\": {\"continuousWidth\": 400, \"continuousHeight\": 300}}, \"data\": {\"url\": \"altair-data-aa1592f52228f4f58cc90905fc02b1b0.json\", \"format\": {\"type\": \"json\"}}, \"mark\": \"line\", \"encoding\": {\"color\": {\"type\": \"nominal\", \"field\": \"publisher\"}, \"x\": {\"type\": \"nominal\", \"axis\": {\"grid\": true, \"labelAngle\": 300, \"tickCount\": 192, \"values\": [1981.0, 1982.0, 1983.0, 1984.0, 1985.0, 1986.0, 1987.0, 1988.0, 1989.0, 1990.0, 1991.0, 1992.0, 1993.0, 1994.0, 1995.0, 1996.0, 1997.0, 1998.0, 1999.0, 2000.0, 2001.0, 2002.0, 2003.0, 2004.0, 2005.0, 2006.0, 2007.0, 2008.0, 2009.0, 2010.0, 2011.0, 2012.0]}, \"field\": \"YEAR\"}, \"y\": {\"type\": \"quantitative\", \"field\": \"value\"}}, \"selection\": {\"Data_\": {\"type\": \"single\", \"fields\": [\"variable\"], \"bind\": {\"input\": \"select\", \"options\": [\"% Female\", \"Year-over-year change in % Female\", \"% Female characters to date\"]}, \"init\": {\"variable\": \"% Female\"}}}, \"transform\": [{\"filter\": {\"selection\": \"Data_\"}}], \"$schema\": \"https://vega.github.io/schema/vega-lite/v4.8.1.json\"}, {\"mode\": \"vega-lite\"});\n",
       "</script>"
      ],
      "text/plain": [
       "alt.Chart(...)"
      ]
     },
     "execution_count": 23,
     "metadata": {},
     "output_type": "execute_result"
    }
   ],
   "source": [
    "# if you did everything correctly, this should generate the visualization:\n",
    "generateLineChartP21()"
   ]
  },
  {
   "cell_type": "markdown",
   "metadata": {
    "deletable": false,
    "editable": false,
    "nbgrader": {
     "checksum": "839ac6c8a8ee91718a7a685c2d69a3fe",
     "grade": false,
     "grade_id": "cell-a28557e5b7ae863c",
     "locked": true,
     "schema_version": 1,
     "solution": false
    }
   },
   "source": [
    "### Problem 2.2.2\n",
    "\n",
    "The next thing we're going to do is modify this example to give us a useful line that gives us the actual values (an effectiveness boost if we want to know the numbers). Here's an example:\n",
    "\n",
    "![\"percent example extended\"](assets/percentinteractive2.gif)\n",
    "\n",
    "Notice that the dropdown functionality still works. Your task is to build ```generateLineChartP22``` below to return this modified line chart. The good news is there's an example that's really close to [what you need](https://altair-viz.github.io/gallery/multiline_tooltip.html). But you'll need to understand what's going on and modify it.\n",
    "\n",
    "Some hints: \n",
    "* You probably want to copy your code for ```generateLineChartP21``` into the new function. There are pieces of code  you defined (e.g., the selection) that you'll need to use again.\n",
    "* The example relies a lot on overloading Altair charts from a common base (e.g., ```line = alt.Chart(...``` and then ```newline = line.encode...``` so newline overloads/extends line). Our experience is that it's easy to get errors when doing this here because you'll be using multiple selections and conditions (another hint). We recommend defining the Altair charts (selectors, points, etc.) from scratch. It's more repeated code, but it'll save you the same headaches."
   ]
  },
  {
   "cell_type": "code",
   "execution_count": 24,
   "metadata": {
    "deletable": false,
    "nbgrader": {
     "checksum": "61a1cc34248935371648e75abadfe3c5",
     "grade": true,
     "grade_id": "cell-1f59348cfddbfcf3",
     "locked": false,
     "points": 0,
     "schema_version": 1,
     "solution": true
    }
   },
   "outputs": [],
   "source": [
    "def generateLineChartP22():\n",
    "    \n",
    "    metricOptions = ['% Female','Year-over-year change in % Female','% Female characters to date']\n",
    "    \n",
    "    input_dropdown = alt.binding_select(options=metricOptions)\n",
    "    \n",
    "    nearest = alt.selection(type='single', nearest=True, on='mouseover',\n",
    "                        fields=['YEAR'], empty='none')\n",
    "    \n",
    "    dropdown_selection = alt.selection_single(fields=['variable'], bind=input_dropdown, name='Data_', init={\"variable\":metricOptions[0]})\n",
    "    \n",
    "    line = alt.Chart(changedata).mark_line().encode(\n",
    "    x=alt.X('YEAR:N',axis=alt.Axis(values=np.arange(1981, 2013),tickCount=len(changedata), grid=False, labelAngle=300)),\n",
    "    y=alt.Y('value:Q'),\n",
    "        color = 'publisher'\n",
    "    )\n",
    "    \n",
    "    \n",
    "    \n",
    "    \n",
    "    selectors = alt.Chart(changedata).mark_point().encode(\n",
    "    x='YEAR:N',\n",
    "    opacity=alt.value(0),\n",
    ").add_selection(\n",
    "    nearest\n",
    ")\n",
    "    \n",
    "    points = line.mark_point().encode(\n",
    "    opacity=alt.condition(nearest, alt.value(1), alt.value(0))\n",
    ")\n",
    "    \n",
    "    text = line.mark_text(align='left', dx=5, dy=-5).encode(\n",
    "    text=alt.condition(nearest, 'value:Q', alt.value(' '))\n",
    ")\n",
    "    \n",
    "    \n",
    "    rules = alt.Chart(changedata).mark_rule(color='gray').encode(\n",
    "    x='YEAR:N',\n",
    ").transform_filter(\n",
    "    nearest\n",
    ")\n",
    "    \n",
    "\n",
    "    \n",
    "    # Put the five layers into a chart and bind the data\n",
    "    final_chart = alt.layer(\n",
    "    line, selectors, points, rules, text\n",
    ").properties(\n",
    "    width=600, height=600\n",
    ").add_selection(\n",
    "    dropdown_selection\n",
    ").transform_filter(\n",
    "    dropdown_selection\n",
    ")\n",
    "    \n",
    "\n",
    "\n",
    "    return final_chart"
   ]
  },
  {
   "cell_type": "code",
   "execution_count": 25,
   "metadata": {},
   "outputs": [
    {
     "data": {
      "text/html": [
       "\n",
       "<div id=\"altair-viz-bef4f3f33e0b458480b03baeccc1b330\"></div>\n",
       "<script type=\"text/javascript\">\n",
       "  (function(spec, embedOpt){\n",
       "    let outputDiv = document.currentScript.previousElementSibling;\n",
       "    if (outputDiv.id !== \"altair-viz-bef4f3f33e0b458480b03baeccc1b330\") {\n",
       "      outputDiv = document.getElementById(\"altair-viz-bef4f3f33e0b458480b03baeccc1b330\");\n",
       "    }\n",
       "    const paths = {\n",
       "      \"vega\": \"https://cdn.jsdelivr.net/npm//vega@5?noext\",\n",
       "      \"vega-lib\": \"https://cdn.jsdelivr.net/npm//vega-lib?noext\",\n",
       "      \"vega-lite\": \"https://cdn.jsdelivr.net/npm//vega-lite@4.8.1?noext\",\n",
       "      \"vega-embed\": \"https://cdn.jsdelivr.net/npm//vega-embed@6?noext\",\n",
       "    };\n",
       "\n",
       "    function loadScript(lib) {\n",
       "      return new Promise(function(resolve, reject) {\n",
       "        var s = document.createElement('script');\n",
       "        s.src = paths[lib];\n",
       "        s.async = true;\n",
       "        s.onload = () => resolve(paths[lib]);\n",
       "        s.onerror = () => reject(`Error loading script: ${paths[lib]}`);\n",
       "        document.getElementsByTagName(\"head\")[0].appendChild(s);\n",
       "      });\n",
       "    }\n",
       "\n",
       "    function showError(err) {\n",
       "      outputDiv.innerHTML = `<div class=\"error\" style=\"color:red;\">${err}</div>`;\n",
       "      throw err;\n",
       "    }\n",
       "\n",
       "    function displayChart(vegaEmbed) {\n",
       "      vegaEmbed(outputDiv, spec, embedOpt)\n",
       "        .catch(err => showError(`Javascript Error: ${err.message}<br>This usually means there's a typo in your chart specification. See the javascript console for the full traceback.`));\n",
       "    }\n",
       "\n",
       "    if(typeof define === \"function\" && define.amd) {\n",
       "      requirejs.config({paths});\n",
       "      require([\"vega-embed\"], displayChart, err => showError(`Error loading script: ${err.message}`));\n",
       "    } else if (typeof vegaEmbed === \"function\") {\n",
       "      displayChart(vegaEmbed);\n",
       "    } else {\n",
       "      loadScript(\"vega\")\n",
       "        .then(() => loadScript(\"vega-lite\"))\n",
       "        .then(() => loadScript(\"vega-embed\"))\n",
       "        .catch(showError)\n",
       "        .then(() => displayChart(vegaEmbed));\n",
       "    }\n",
       "  })({\"usermeta\": {\"embedOptions\": {\"theme\": \"fivethirtyeight\"}}, \"config\": {\"view\": {\"continuousWidth\": 400, \"continuousHeight\": 300}}, \"layer\": [{\"mark\": \"line\", \"encoding\": {\"color\": {\"type\": \"nominal\", \"field\": \"publisher\"}, \"x\": {\"type\": \"nominal\", \"axis\": {\"grid\": false, \"labelAngle\": 300, \"tickCount\": 192, \"values\": [1981.0, 1982.0, 1983.0, 1984.0, 1985.0, 1986.0, 1987.0, 1988.0, 1989.0, 1990.0, 1991.0, 1992.0, 1993.0, 1994.0, 1995.0, 1996.0, 1997.0, 1998.0, 1999.0, 2000.0, 2001.0, 2002.0, 2003.0, 2004.0, 2005.0, 2006.0, 2007.0, 2008.0, 2009.0, 2010.0, 2011.0, 2012.0]}, \"field\": \"YEAR\"}, \"y\": {\"type\": \"quantitative\", \"field\": \"value\"}}, \"selection\": {\"Data_\": {\"type\": \"single\", \"fields\": [\"variable\"], \"bind\": {\"input\": \"select\", \"options\": [\"% Female\", \"Year-over-year change in % Female\", \"% Female characters to date\"]}, \"init\": {\"variable\": \"% Female\"}}}}, {\"mark\": \"point\", \"encoding\": {\"opacity\": {\"value\": 0}, \"x\": {\"type\": \"nominal\", \"field\": \"YEAR\"}}, \"selection\": {\"selector002\": {\"type\": \"single\", \"nearest\": true, \"on\": \"mouseover\", \"fields\": [\"YEAR\"], \"empty\": \"none\"}}}, {\"mark\": \"point\", \"encoding\": {\"color\": {\"type\": \"nominal\", \"field\": \"publisher\"}, \"opacity\": {\"condition\": {\"value\": 1, \"selection\": \"selector002\"}, \"value\": 0}, \"x\": {\"type\": \"nominal\", \"axis\": {\"grid\": false, \"labelAngle\": 300, \"tickCount\": 192, \"values\": [1981.0, 1982.0, 1983.0, 1984.0, 1985.0, 1986.0, 1987.0, 1988.0, 1989.0, 1990.0, 1991.0, 1992.0, 1993.0, 1994.0, 1995.0, 1996.0, 1997.0, 1998.0, 1999.0, 2000.0, 2001.0, 2002.0, 2003.0, 2004.0, 2005.0, 2006.0, 2007.0, 2008.0, 2009.0, 2010.0, 2011.0, 2012.0]}, \"field\": \"YEAR\"}, \"y\": {\"type\": \"quantitative\", \"field\": \"value\"}}}, {\"mark\": {\"type\": \"rule\", \"color\": \"gray\"}, \"encoding\": {\"x\": {\"type\": \"nominal\", \"field\": \"YEAR\"}}, \"transform\": [{\"filter\": {\"selection\": \"selector002\"}}]}, {\"mark\": {\"type\": \"text\", \"align\": \"left\", \"dx\": 5, \"dy\": -5}, \"encoding\": {\"color\": {\"type\": \"nominal\", \"field\": \"publisher\"}, \"text\": {\"condition\": {\"type\": \"quantitative\", \"field\": \"value\", \"selection\": \"selector002\"}, \"value\": \" \"}, \"x\": {\"type\": \"nominal\", \"axis\": {\"grid\": false, \"labelAngle\": 300, \"tickCount\": 192, \"values\": [1981.0, 1982.0, 1983.0, 1984.0, 1985.0, 1986.0, 1987.0, 1988.0, 1989.0, 1990.0, 1991.0, 1992.0, 1993.0, 1994.0, 1995.0, 1996.0, 1997.0, 1998.0, 1999.0, 2000.0, 2001.0, 2002.0, 2003.0, 2004.0, 2005.0, 2006.0, 2007.0, 2008.0, 2009.0, 2010.0, 2011.0, 2012.0]}, \"field\": \"YEAR\"}, \"y\": {\"type\": \"quantitative\", \"field\": \"value\"}}}], \"data\": {\"url\": \"altair-data-aa1592f52228f4f58cc90905fc02b1b0.json\", \"format\": {\"type\": \"json\"}}, \"height\": 600, \"transform\": [{\"filter\": {\"selection\": \"Data_\"}}], \"width\": 600, \"$schema\": \"https://vega.github.io/schema/vega-lite/v4.8.1.json\"}, {\"mode\": \"vega-lite\"});\n",
       "</script>"
      ],
      "text/plain": [
       "alt.LayerChart(...)"
      ]
     },
     "execution_count": 25,
     "metadata": {},
     "output_type": "execute_result"
    }
   ],
   "source": [
    "generateLineChartP22()"
   ]
  },
  {
   "cell_type": "markdown",
   "metadata": {
    "deletable": false,
    "editable": false,
    "nbgrader": {
     "checksum": "d0fdcfdbf2345abd7e7ba80dabb6f8fe",
     "grade": false,
     "grade_id": "cell-98c6ca9398abd9e6",
     "locked": true,
     "schema_version": 1,
     "solution": false
    }
   },
   "source": [
    "## Extra Credit (up to 10 points)\n",
    "\n",
    "As an extra credit exercise, you can create a new interactive visualization that either replaces/extends one of the 538 examples OR invent a new one that fits with the article.\n",
    "\n",
    "The interaction should be well thought out and appropriate (so just turning on ```.interactive()``` on a static chart won't really cut it). Please give us 1-2 sentences about what your interactivity adds."
   ]
  },
  {
   "cell_type": "code",
   "execution_count": 26,
   "metadata": {},
   "outputs": [],
   "source": [
    "# YOUR ANSWER HERE"
   ]
  }
 ],
 "metadata": {
  "coursera": {
   "schema_names": [
    "mads_information_visualization_ii_v1_assignment2"
   ]
  },
  "kernelspec": {
   "display_name": "Python 3",
   "language": "python",
   "name": "python3"
  },
  "language_info": {
   "codemirror_mode": {
    "name": "ipython",
    "version": 3
   },
   "file_extension": ".py",
   "mimetype": "text/x-python",
   "name": "python",
   "nbconvert_exporter": "python",
   "pygments_lexer": "ipython3",
   "version": "3.7.10"
  }
 },
 "nbformat": 4,
 "nbformat_minor": 4
}
